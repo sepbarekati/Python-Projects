{
 "cells": [
  {
   "cell_type": "code",
   "execution_count": 84,
   "metadata": {},
   "outputs": [],
   "source": [
    "import random\n",
    "import math"
   ]
  },
  {
   "cell_type": "code",
   "execution_count": 85,
   "metadata": {},
   "outputs": [],
   "source": [
    "# Genetic Algorithm\n",
    "def generate_individual():\n",
    "    rolls = []\n",
    "    remaining_length = sum(requests)\n",
    "    while remaining_length > 0:\n",
    "        roll_length = min(stock_length, remaining_length)\n",
    "        rolls.append(roll_length)\n",
    "        remaining_length -= roll_length\n",
    "    while len(rolls) > less_than:  # Ensure less than \"given number\" rolls\n",
    "        rolls.pop(random.randint(0, len(rolls)-1))\n",
    "    return rolls\n",
    "\n",
    "def crossover(parent1, parent2):\n",
    "    crossover_point = random.randint(1, len(parent1) - 1)\n",
    "    child1 = parent1[:crossover_point] + parent2[crossover_point:]\n",
    "    child2 = parent2[:crossover_point] + parent1[crossover_point:]\n",
    "    return child1, child2\n",
    "\n",
    "def mutate(individual, mutation_rate=0.01):\n",
    "    for i in range(len(individual)):\n",
    "        if random.random() < mutation_rate:\n",
    "            individual[i] = random.randint(1, stock_length)\n",
    "    return individual\n",
    "\n",
    "def genetic_algorithm(population_size=100, generations=100):\n",
    "    population = [generate_individual() for _ in range(population_size)]\n",
    "    for _ in range(generations):\n",
    "        population = sorted(population, key=lambda x: fitness(x), reverse=True)\n",
    "        next_generation = population[:population_size // 2]\n",
    "        while len(next_generation) < population_size:\n",
    "            parent1, parent2 = random.choices(population[:10], k=2)\n",
    "            child1, child2 = crossover(parent1, parent2)\n",
    "            next_generation.extend([mutate(child1), mutate(child2)])\n",
    "        population = next_generation\n",
    "    return population[0]\n"
   ]
  },
  {
   "cell_type": "code",
   "execution_count": 86,
   "metadata": {},
   "outputs": [],
   "source": [
    "# Simulated Annealing\n",
    "def simulated_annealing(initial_solution, max_iterations=10000, initial_temperature=100.0, cooling_rate=0.95):\n",
    "    current_solution = initial_solution\n",
    "    current_fitness = fitness(current_solution)\n",
    "    best_solution = current_solution\n",
    "    best_fitness = current_fitness\n",
    "\n",
    "    for iteration in range(max_iterations):\n",
    "        temperature = initial_temperature * math.exp(-cooling_rate * iteration)\n",
    "        if temperature == 0:\n",
    "            break\n",
    "\n",
    "        neighbor = mutate(current_solution)\n",
    "        neighbor_fitness = fitness(neighbor)\n",
    "\n",
    "        if neighbor_fitness > current_fitness or random.random() < math.exp((neighbor_fitness - current_fitness) / temperature):\n",
    "            current_solution = neighbor\n",
    "            current_fitness = neighbor_fitness\n",
    "\n",
    "        if current_fitness > best_fitness:\n",
    "            best_solution = current_solution\n",
    "            best_fitness = current_fitness\n",
    "\n",
    "    return best_solution"
   ]
  },
  {
   "cell_type": "code",
   "execution_count": 87,
   "metadata": {},
   "outputs": [],
   "source": [
    "# Hill Climbing\n",
    "def hill_climbing(initial_solution, max_iterations=10000):\n",
    "    current_solution = initial_solution\n",
    "    current_fitness = fitness(current_solution)\n",
    "\n",
    "    for iteration in range(max_iterations):\n",
    "        neighbor = mutate(current_solution)\n",
    "        neighbor_fitness = fitness(neighbor)\n",
    "\n",
    "        if neighbor_fitness > current_fitness:\n",
    "            current_solution = neighbor\n",
    "            current_fitness = neighbor_fitness\n",
    "\n",
    "    return current_solution"
   ]
  },
  {
   "cell_type": "code",
   "execution_count": 88,
   "metadata": {},
   "outputs": [
    {
     "name": "stdout",
     "output_type": "stream",
     "text": [
      "Genetic Algorithm Solution: 49\n",
      "Simulated Annealing Solution: 49\n",
      "Hill Climbing Solution: 49\n"
     ]
    }
   ],
   "source": [
    "stock_length = 1000\n",
    "requests = [106, 187, 914, 106, 33, 18, 402, 230, 507, 495, 609, 627, 346, 295, 312, 107, 716, 88, 106, 248, 689, 115, 106, 218, 672, 618, 117, 805, 306, 753, 414, 84, 557, 266, 409, 144, 69, 116, 333, 88, 264, 967, 180, 251, 71, 788, 581, 555, 988, 292, 60, 125, 532, 405, 170, 249, 181, 686, 283, 424, 933, 23, 99, 135, 246, 337, 648, 753, 354, 518, 45, 286, 315, 370, 557, 463, 312, 284, 61, 412, 457, 118, 268, 123, 232, 788, 678, 371, 171, 557, 549, 286, 356, 92, 148, 515, 301, 632, 987, 660, 868, 92, 544, 211, 70, 75, 145, 125, 278, 441, 368, 351, 119, 662, 653, 186, 517, 43, 224, 506, 592, 501, 149, 79, 241, 53, 80, 437, 46, 78, 149, 525, 149, 126, 365, 460, 280, 266, 109, 86]\n",
    "less_than = 56\n",
    "\n",
    "# Run algorithms\n",
    "genetic_solution = len(genetic_algorithm())\n",
    "sa_solution = len(simulated_annealing(generate_individual()))\n",
    "hc_solution = len(hill_climbing(generate_individual()))\n",
    "\n",
    "print(\"Genetic Algorithm Solution:\", genetic_solution)\n",
    "print(\"Simulated Annealing Solution:\", sa_solution)\n",
    "print(\"Hill Climbing Solution:\", hc_solution)"
   ]
  },
  {
   "cell_type": "code",
   "execution_count": 89,
   "metadata": {},
   "outputs": [
    {
     "name": "stdout",
     "output_type": "stream",
     "text": [
      "Genetic Algorithm Solution: 73\n",
      "Simulated Annealing Solution: 73\n",
      "Hill Climbing Solution: 73\n"
     ]
    }
   ],
   "source": [
    "stock_length = 5600\n",
    "requests = [1520, 2150, 1880, 1520, 2150, 1820, 2150, 2050, 2140, 2140, 1710, 1820, 2150, 1380, 2140, 2150, 1820, 2050, 2100, 1380, 1880, 1880, 1520, 1930, 1710, 2140, 1880, 2050, 1710, 2150, 2000, 1710, 1820, 1560, 2150, 1930, 2000, 1880, 1380, 2050, 1930, 1710, 1820, 1710, 2200, 2050, 1560, 1930, 1930, 2050, 1560, 1380, 1520, 1520, 1520, 2100, 1560, 1520, 2150, 2000, 2000, 2140, 1560, 1880, 2200, 2140, 1930, 2000, 2050, 1520, 1880, 2200, 1520, 1930, 1520, 1710, 1710, 2150, 2100, 2200, 1820, 1820, 2200, 1380, 1880, 1880, 1710, 2140, 1820, 2100, 1380, 1880, 2140, 1820, 1930, 1880, 1880, 1520, 2000, 2050, 2140, 1380, 1380, 1380, 2150, 1380, 2150, 1820, 1820, 2140, 1560, 1710, 1520, 1560, 2140, 2200, 2200, 1880, 2200, 1710, 1930, 2100, 2200, 1820, 1520, 2140, 2100, 1380, 1520, 2140, 2050, 2100, 2200, 2140, 1820, 1820, 1380, 1880, 2140, 2150, 1930, 2100, 2150, 1380, 1710, 1380, 1380, 1520, 2200, 1380, 1560, 1930, 1820, 1930, 1380, 2140, 1520, 2050, 1710, 1880, 1560, 1520, 2150, 1880, 1520, 2100, 1560, 1710, 2150, 1930, 2000, 1930, 1520, 2200, 2200, 1560, 1820, 2100, 2150, 1880, 2000, 1820, 1380, 1930, 2100, 1880, 2200, 1560, 1380, 2100, 1520, 2000, 2200, 2000, 2100, 2050, 1930, 1520, 2200, 2200, 2050, 2100, 1380, 1930, 1820, 1520, 2150, 1520, 1520, 1380, 2200, 1380, 1930, 1930, 2150, 1930, 2200, 2200, 1520]\n",
    "less_than = 80\n",
    "\n",
    "# Run algorithms\n",
    "genetic_solution = len(genetic_algorithm())\n",
    "sa_solution = len(simulated_annealing(generate_individual()))\n",
    "hc_solution = len(hill_climbing(generate_individual()))\n",
    "\n",
    "print(\"Genetic Algorithm Solution:\", genetic_solution)\n",
    "print(\"Simulated Annealing Solution:\", sa_solution)\n",
    "print(\"Hill Climbing Solution:\", hc_solution)"
   ]
  },
  {
   "cell_type": "code",
   "execution_count": 90,
   "metadata": {},
   "outputs": [
    {
     "name": "stdout",
     "output_type": "stream",
     "text": [
      "Genetic Algorithm Solution: 92\n",
      "Simulated Annealing Solution: 92\n",
      "Hill Climbing Solution: 92\n"
     ]
    }
   ],
   "source": [
    "stock_length = 500\n",
    "requests = [6, 11, 288, 19, 18, 3, 6, 2, 1, 116, 17, 9, 2, 470, 224, 16, 3, 1, 7, 2, 25, 2, 1, 18, 5, 5, 92, 1, 162, 8, 2, 153, 161, 8, 1, 17, 9, 5, 8, 244, 8, 134, 2, 1, 88, 11, 49, 8, 3, 1, 3, 6, 85, 2, 1, 12, 201, 1, 14, 187, 7, 4, 245, 2, 6, 1, 2, 3, 1, 9, 106, 8, 5, 9, 10, 4, 9, 7, 1, 9, 1, 6, 11, 8, 3, 7, 41, 7, 75, 5, 3, 6, 5, 3, 1, 166, 5, 2, 52, 21, 5, 7, 5, 5, 3, 110, 5, 3, 2, 4, 2, 5, 271, 369, 134, 3, 282, 3, 1, 76, 12, 4, 16, 10, 12, 1, 2, 26, 1, 204, 14, 1, 4, 1, 118, 72, 2, 2, 364, 2, 1, 196, 6, 331, 26, 14, 6, 159, 433, 3, 2, 1, 275, 7, 8, 1, 318, 5, 32, 4, 1, 17, 8, 20, 21, 1, 3, 19, 386, 3, 172, 1, 17, 93, 138, 7, 8, 6, 157, 4, 6, 2, 7, 111, 34, 7, 159, 359, 6, 264, 131, 9, 5, 3, 36, 1, 6, 18, 8, 7, 116, 11, 5, 154, 1, 5, 120, 17, 16, 152, 2, 21, 5, 14, 7, 7, 174, 134, 24, 17, 3, 3, 4, 6, 6, 225, 10, 15, 7, 86, 2, 13, 5, 224, 15, 6, 1, 9, 2, 9, 3, 264, 152, 4, 14, 260, 124, 214, 17, 12, 10, 10, 3, 2, 4, 97, 313, 4, 1, 5, 16, 237, 5, 2, 9, 9, 10, 12, 1, 17, 311, 2, 9, 16, 9, 19, 22, 2, 10, 178, 3, 9, 1, 4, 9, 87, 321, 8, 10, 4, 183, 405, 5, 9, 7, 227, 14, 18, 205, 7, 14, 9, 4, 7, 2, 15, 6, 7, 204, 240, 99, 2, 4, 112, 314, 89, 198, 178, 8, 11, 7, 167, 124, 27, 6, 86, 11, 1, 19, 6, 3, 8, 1, 180, 1, 361, 3, 11, 5, 8, 28, 9, 1, 152, 6, 8, 27, 6, 191, 5, 3, 234, 3, 15, 1, 243, 1, 11, 4, 9, 255, 2, 6, 5, 6, 169, 92, 138, 3, 8, 1, 6, 6, 2, 3, 38, 2, 14, 21, 5, 8, 4, 1, 7, 5, 275, 9, 2, 11, 5, 8, 18, 13, 4, 67, 66, 111, 3, 3, 339, 1, 4, 13, 29, 147, 10, 3, 23, 5, 158, 7, 13, 1, 7, 1, 9, 4, 4, 4, 3, 2, 74, 98, 25, 335, 1, 24, 6, 243, 11, 167, 4, 4, 7, 10, 98, 8, 135, 4, 419, 14, 4, 15, 1, 6, 2, 12, 6, 11, 13, 8, 21, 6, 21, 147, 5, 8, 14, 11, 263, 4, 147, 411, 24, 16, 18, 1, 2, 90, 24, 2, 7, 5, 18, 21, 3, 319, 8, 138, 4, 5, 2, 1, 5, 7, 126, 68, 265, 9, 1, 6, 239, 9, 3, 3, 2, 160, 12, 3, 350, 3, 91, 9, 40, 10, 12, 5, 37, 2, 5, 16, 5, 6, 1, 11, 2, 3, 343, 12, 2, 130, 314, 5, 76, 9, 4, 11, 1, 3, 3, 1, 9, 186, 14, 2, 1, 4, 9, 1, 209, 5, 3, 7, 21, 174, 13, 4, 27, 255, 2, 298, 1, 7, 8, 9, 1, 12, 3, 6, 150, 16, 4, 2, 16, 133, 281, 1, 1, 38, 8, 15, 1, 1, 5, 2, 3, 4, 170, 2, 134, 263, 7, 10, 10, 6, 139, 2, 3, 13, 5, 163, 6, 109, 4, 229, 4, 199, 6, 228, 7, 7, 1, 13, 2, 167, 2, 8, 1, 2, 2, 1, 3, 14, 6, 7, 26, 49, 87, 14, 1, 8, 4, 35, 2, 13, 18, 184, 39, 132, 271, 1, 115, 45, 9, 5, 3, 66, 6, 144, 2, 152, 403, 5, 23, 5, 1, 1, 102, 3, 313, 1, 315, 6, 13, 2, 5, 9, 54, 7, 9, 458, 92, 15, 14, 3, 197, 6, 314, 7, 9, 2, 5, 108, 1, 18, 7, 7, 11, 3, 7, 1, 34, 1, 1, 3, 274, 61, 49, 9, 11, 7, 4, 43, 9, 7, 2, 12, 11, 11, 2, 4, 7, 6, 5, 144, 1, 4, 12, 34, 133, 3, 169, 189, 2, 6, 9, 4, 17, 7, 1, 8, 8, 3, 2, 2, 8, 5, 360, 15, 151, 79, 87, 277, 165, 399, 245, 78, 156, 86, 1, 3, 6, 1, 68, 2, 23, 2, 4, 290, 245, 280, 1, 6, 170, 152, 2, 2, 8, 4, 3, 2, 11, 7, 12, 250, 243, 2, 209, 6, 7, 153, 12, 225, 4, 5, 251, 2, 314, 6, 13, 4, 7, 125, 102, 1, 9, 170, 10, 50, 108, 2, 1, 43, 9, 3, 10, 430, 7, 1, 11, 1, 13, 4, 12, 2, 234, 14, 96, 5, 6, 128, 1, 3, 8, 8, 6, 479, 3, 1, 421, 4, 7, 2, 14, 9, 1, 16, 24, 3, 3, 2, 5, 10, 213, 12, 1, 8, 124, 279, 188, 3, 299, 92, 4, 23, 41, 10, 1, 3, 9, 2, 4, 13, 19, 2, 59, 2, 3, 3, 10]\n",
    "less_than = 115\n",
    "\n",
    "# Run algorithms\n",
    "genetic_solution = len(genetic_algorithm())\n",
    "sa_solution = len(simulated_annealing(generate_individual()))\n",
    "hc_solution = len(hill_climbing(generate_individual()))\n",
    "\n",
    "print(\"Genetic Algorithm Solution:\", genetic_solution)\n",
    "print(\"Simulated Annealing Solution:\", sa_solution)\n",
    "print(\"Hill Climbing Solution:\", hc_solution)"
   ]
  },
  {
   "cell_type": "code",
   "execution_count": 91,
   "metadata": {},
   "outputs": [
    {
     "name": "stdout",
     "output_type": "stream",
     "text": [
      "Genetic Algorithm Solution: 205\n",
      "Simulated Annealing Solution: 205\n",
      "Hill Climbing Solution: 205\n"
     ]
    }
   ],
   "source": [
    "stock_length = 100\n",
    "requests = [22, 7, 5, 3, 28, 2, 14, 5, 32, 29, 74, 24, 67, 3, 35, 1, 6, 66, 30, 70, 65, 1, 12, 47, 33, 36, 99, 54, 4, 10, 18, 11, 5, 23, 48, 30, 44, 5, 51, 13, 13, 13, 2, 11, 60, 22, 5, 13, 10, 4, 4, 51, 50, 6, 61, 28, 15, 3, 68, 3, 69, 57, 62, 6, 9, 9, 3, 78, 22, 2, 6, 13, 20, 71, 15, 10, 12, 46, 27, 59, 87, 10, 27, 54, 61, 23, 27, 5, 8, 7, 3, 11, 36, 9, 20, 4, 66, 2, 16, 3, 34, 6, 3, 37, 36, 1, 15, 6, 1, 24, 29, 18, 5, 2, 46, 2, 46, 9, 73, 31, 33, 17, 29, 9, 51, 21, 43, 2, 18, 18, 5, 59, 91, 10, 8, 33, 14, 54, 19, 7, 46, 18, 32, 45, 17, 13, 37, 15, 6, 79, 58, 50, 53, 27, 67, 10, 25, 2, 4, 23, 73, 26, 7, 1, 43, 4, 34, 22, 52, 39, 21, 47, 11, 16, 4, 7, 58, 22, 6, 20, 5, 33, 63, 38, 6, 5, 9, 45, 1, 84, 5, 59, 4, 15, 34, 3, 20, 19, 65, 73, 8, 9, 3, 8, 15, 12, 26, 14, 7, 39, 11, 20, 12, 47, 2, 32, 2, 16, 37, 32, 8, 10, 5, 63, 35, 34, 8, 20, 9, 2, 34, 56, 26, 21, 44, 33, 14, 3, 12, 18, 22, 20, 8, 17, 55, 22, 13, 7, 18, 38, 5, 8, 44, 47, 7, 7, 15, 9, 10, 5, 4, 1, 20, 25, 27, 10, 8, 5, 1, 5, 8, 52, 6, 9, 51, 3, 2, 3, 13, 26, 4, 68, 4, 1, 38, 50, 16, 15, 57, 20, 37, 10, 16, 7, 12, 22, 12, 59, 15, 31, 12, 10, 17, 38, 5, 15, 4, 6, 17, 14, 22, 24, 20, 46, 25, 2, 81, 5, 1, 6, 18, 10, 56, 30, 95, 40, 16, 34, 7, 7, 1, 41, 81, 43, 7, 6, 50, 6, 62, 60, 19, 9, 25, 27, 24, 6, 80, 4, 4, 36, 34, 11, 8, 20, 45, 5, 61, 58, 2, 37, 33, 37, 6, 30, 2, 23, 6, 13, 11, 98, 33, 14, 25, 20, 56, 4, 6, 23, 75, 26, 51, 2, 24, 11, 10, 5, 24, 26, 22, 74, 74, 3, 15, 56, 20, 4, 6, 6, 6, 10, 1, 7, 3, 4, 9, 35, 2, 80, 6, 58, 47, 21, 44, 5, 1, 8, 4, 56, 41, 5, 46, 92, 14, 7, 65, 9, 36, 38, 25, 7, 50, 7, 21, 2, 22, 39, 89, 32, 8, 12, 67, 4, 20, 1, 36, 10, 6, 2, 3, 90, 7, 19, 59, 6, 3, 2, 7, 47, 34, 16, 26, 1, 27, 34, 7, 27, 4, 5, 34, 16, 18, 71, 14, 2, 31, 20, 16, 11, 1, 6, 14, 4, 14, 15, 3, 61, 21, 30, 3, 20, 17, 6, 29, 31, 15, 12, 6, 8, 7, 11, 4, 2, 7, 18, 67, 23, 11, 23, 28, 13, 5, 13, 42, 1, 54, 5, 16, 44, 32, 76, 5, 17, 47, 92, 6, 29, 7, 47, 25, 2, 12, 27, 6, 4, 1, 14, 21, 6, 2, 33, 19, 44, 5, 9, 11, 14, 93, 4, 7, 2, 24, 24, 1, 12, 43, 5, 22, 3, 16, 4, 16, 9, 5, 32, 73, 31, 7, 28, 52, 20, 54, 52, 11, 15, 24, 5, 4, 2, 26, 14, 18, 5, 4, 4, 1, 20, 8, 14, 21, 34, 48, 21, 27, 11, 27, 16, 3, 12, 26, 14, 13, 4, 9, 18, 3, 47, 23, 17, 1, 51, 2, 5, 3, 38, 38, 6, 16, 13, 45, 25, 43, 8, 16, 74, 22, 40, 98, 1, 51, 88, 17, 35, 71, 5, 15, 7, 7, 10, 46, 3, 18, 18, 4, 5, 72, 10, 4, 6, 1, 12, 6, 32, 19, 10, 6, 3, 89, 7, 37, 3, 1, 44, 13, 5, 14, 2, 3, 47, 9, 21, 2, 13, 17, 2, 4, 38, 5, 37, 5, 36, 9, 5, 38, 15, 26, 29, 39, 37, 48, 9, 31, 20, 33, 48, 23, 51, 18, 1, 21, 30, 89, 14, 9, 80, 30, 11, 3, 68, 2, 72, 31, 24, 56, 28, 2, 16, 44, 21, 10, 52, 13, 9, 12, 3, 9, 3, 3, 2, 5, 3, 4, 39, 10, 18, 36, 20, 8, 43, 1, 5, 12, 15, 7, 8, 26, 1, 19, 2, 1, 21, 8, 22, 15, 66, 5, 40, 8, 3, 46, 3, 66, 19, 4, 47, 19, 22, 25, 91, 24, 2, 3, 8, 2, 2, 30, 1, 2, 2, 8, 2, 18, 4, 14, 13, 4, 5, 93, 19, 6, 18, 12, 5, 30, 21, 6, 35, 24, 2, 3, 19, 6, 21, 18, 21, 82, 26, 6, 54, 2, 24, 56, 28, 4, 20, 79, 35, 7, 6, 87, 3, 55, 12, 7, 69, 67, 8, 18, 16, 47, 5, 65, 28, 9, 32, 8, 4, 1, 13, 33, 17, 5, 6, 31, 2, 8, 1, 4, 24, 21, 9, 15, 15, 74, 1, 78, 32, 3, 6, 5, 12, 12, 13, 31, 4, 80, 6, 20, 62, 18, 13, 9, 14, 3, 14, 9, 16, 16, 2, 1, 10, 33, 1, 16, 4, 3, 5, 35, 4, 72, 43, 10, 18, 8, 68, 10, 23, 7, 3, 13, 4]\n",
    "less_than = 235\n",
    "\n",
    "# Run algorithms\n",
    "genetic_solution = len(genetic_algorithm())\n",
    "sa_solution = len(simulated_annealing(generate_individual()))\n",
    "hc_solution = len(hill_climbing(generate_individual()))\n",
    "\n",
    "print(\"Genetic Algorithm Solution:\", genetic_solution)\n",
    "print(\"Simulated Annealing Solution:\", sa_solution)\n",
    "print(\"Hill Climbing Solution:\", hc_solution)"
   ]
  }
 ],
 "metadata": {
  "kernelspec": {
   "display_name": "Python 3",
   "language": "python",
   "name": "python3"
  },
  "language_info": {
   "codemirror_mode": {
    "name": "ipython",
    "version": 3
   },
   "file_extension": ".py",
   "mimetype": "text/x-python",
   "name": "python",
   "nbconvert_exporter": "python",
   "pygments_lexer": "ipython3",
   "version": "3.10.4"
  }
 },
 "nbformat": 4,
 "nbformat_minor": 2
}
